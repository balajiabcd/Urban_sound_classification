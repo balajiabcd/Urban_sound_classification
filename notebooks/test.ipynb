{
 "cells": [
  {
   "cell_type": "code",
   "execution_count": 1,
   "id": "d440e822",
   "metadata": {},
   "outputs": [
    {
     "data": {
      "text/plain": [
       "'d:\\\\Github_work\\\\Urban_sound_classification\\\\notebooks'"
      ]
     },
     "execution_count": 1,
     "metadata": {},
     "output_type": "execute_result"
    }
   ],
   "source": [
    "import os\n",
    "os.getcwd()"
   ]
  },
  {
   "cell_type": "markdown",
   "id": "293aa7f0",
   "metadata": {},
   "source": []
  },
  {
   "cell_type": "code",
   "execution_count": 2,
   "id": "1ba2a8ba",
   "metadata": {},
   "outputs": [],
   "source": [
    "os.chdir('D:/Github_work/Urban_sound_classification')"
   ]
  },
  {
   "cell_type": "code",
   "execution_count": 3,
   "id": "19b46cfe",
   "metadata": {},
   "outputs": [
    {
     "data": {
      "text/plain": [
       "['.git',\n",
       " 'archive_dataframes',\n",
       " 'info_UrbanSound8K.docx',\n",
       " 'ML_Project_Report.docx',\n",
       " 'ML_Project_Report.pdf',\n",
       " 'notebooks',\n",
       " 'README.md',\n",
       " 'ReadMe.txt',\n",
       " 'static',\n",
       " 'UrbanSound8K.csv']"
      ]
     },
     "execution_count": 3,
     "metadata": {},
     "output_type": "execute_result"
    }
   ],
   "source": [
    "os.listdir()"
   ]
  },
  {
   "cell_type": "code",
   "execution_count": null,
   "id": "95bc1fc1",
   "metadata": {},
   "outputs": [],
   "source": []
  }
 ],
 "metadata": {
  "kernelspec": {
   "display_name": "Python 3",
   "language": "python",
   "name": "python3"
  },
  "language_info": {
   "codemirror_mode": {
    "name": "ipython",
    "version": 3
   },
   "file_extension": ".py",
   "mimetype": "text/x-python",
   "name": "python",
   "nbconvert_exporter": "python",
   "pygments_lexer": "ipython3",
   "version": "3.11.3"
  }
 },
 "nbformat": 4,
 "nbformat_minor": 5
}
